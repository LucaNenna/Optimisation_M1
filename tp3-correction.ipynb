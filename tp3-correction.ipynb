{
 "cells": [
  {
   "cell_type": "markdown",
   "metadata": {
    "deletable": false
   },
   "source": [
    "***\n",
    "**Optimisation numérique -- M1 Math & I.A. 2022/2023 -- Université Paris-Saclay**\n",
    "***\n",
    "\n",
    "# TP 3 : Projection sur le simplexe et optimisation de portefeuille\n"
   ]
  },
  {
   "cell_type": "code",
   "execution_count": 7,
   "metadata": {},
   "outputs": [],
   "source": [
    "import numpy as np\n",
    "import matplotlib.pyplot as plt\n",
    "import scipy.optimize\n",
    "%matplotlib inline\n",
    "# la commande suivante agrandit les figures\n",
    "plt.rcParams['figure.figsize'] = [9.,6.]\n",
    "\n",
    "def verifier_gradient(f,g,x0):\n",
    "    N = len(x0)\n",
    "    gg = np.zeros(N)\n",
    "    for i in range(N):\n",
    "        eps = 1e-4\n",
    "        e = np.zeros(N)\n",
    "        e[i] = eps\n",
    "        gg[i] = (f(x0+e) - f(x0-e))/(2*eps)\n",
    "    print('erreur numerique dans le calcul du gradient: %g (doit etre petit)' % np.linalg.norm(g(x0)-gg))"
   ]
  },
  {
   "cell_type": "markdown",
   "metadata": {
    "deletable": false
   },
   "source": [
    "## I. Projection sur le simplexe\n",
    "$\\newcommand{\\Rsp}{\\mathbb{R}}$\n",
    "$\\newcommand{\\sca}[2]{\\langle #1|#2\\rangle}$\n",
    "$\\newcommand{\\eps}{\\varepsilon}$\n",
    "$\\newcommand{\\proj}{\\mathrm{proj}}$\n",
    "Comme dans le troisième exercice de la feuille de TD consacrée au calcul de projections, on appelle simplexe l'ensemble \n",
    "\n",
    "$$\\Delta = \\{ x\\in \\Rsp_+^n \\mid \\sum_{1\\leq i \\leq n} x_i = 1\\}.$$\n",
    "\n",
    "Dans un premier temps, on va chercher à calculer la projection d'un point \n",
    "$y\\in\\Rsp^n$ sur $\\Delta$. Pour cela, on admettra les deux résultats suivants, démontrés dans le TD:\n",
    "\n",
    "- il existe $\\kappa\\in\\Rsp$ tel que $\\sum_{1\\leq i\\leq n} \\max(y_i - \\kappa, 0) = 1$\n",
    "- la projection de $y$ sur $\\Delta$ s'écrit alors $\\proj_\\Delta(y) = (\\max(y_i - \\kappa, 0))_{1\\leq i\\leq n}$\n",
    "\n",
    "Ainsi, pour trouver la projection d'un point $y\\in\\Rsp^n$ sur le simplexe $\\Delta$, il suffit de trouver $\\kappa\\in\\Rsp$ tel que $g(\\kappa) = 0$ où l'on a posé\n",
    "$$ g(\\kappa) = \\left(\\sum_{1\\leq i\\leq n} \\max(y_i - \\kappa, 0)\\right) -1$$\n",
    "\n",
    "\n",
    "**Q1)** Soit $y = (0.1,1.5,2.1) \\in \\Rsp^3$. Écrire la fonction `g(kappa)` décrite ci-dessus. Trouver $\\kappa$ vérifiant $g(\\kappa) = 0$ en utilisant la fonction `scipy.optimize.root(g,x0=0,method='anderson').x`."
   ]
  },
  {
   "cell_type": "code",
   "execution_count": 8,
   "metadata": {},
   "outputs": [
    {
     "name": "stdout",
     "output_type": "stream",
     "text": [
      "1.299997717450157\n"
     ]
    }
   ],
   "source": [
    "y = np.array([0.1,1.5,2.1])\n",
    "def g(k):\n",
    "    return np.sum(np.maximum(y-k,0)) - 1.0\n",
    "\n",
    "k = scipy.optimize.root(g,x0=0,method='anderson').x\n",
    "print(k)\n"
   ]
  },
  {
   "cell_type": "markdown",
   "metadata": {
    "deletable": false
   },
   "source": [
    "**Q2)** En s'inspirant du code de la fonction précédente, écrire une fonction proj_simplexe calculant la projection d'un point $y\\in\\Rsp^n$ sur $\\Delta$. Pour vérifier le bon fonctionnement de cette fonction, calculer calculer $p=$`proj_simplexe(y)` pour $y=$`np.random.randn(n)` puis vérifier que \n",
    "\n",
    "$$ \\forall i\\in\\{1,\\dots,n\\}, \\sca{y - p}{p - e_i} \\geq 0,$$\n",
    "\n",
    "où $e_i$ est le $i$ème vecteur de la base canonique.\n",
    "\n",
    "*(Question subsidiaire: pourquoi cette inégalité doit-elle être vraie pour $p = \\proj_\\Delta(y)$ ? Caractérise-t-elle la projection sur $\\Delta$?)*\n",
    "<!-- (dans le cas $n=2$, on peut également tirer quelques points aléatoirement dans le plan et visualiser le segment qui les relie à leur projection sur $\\Delta$) -->"
   ]
  },
  {
   "cell_type": "code",
   "execution_count": 9,
   "metadata": {},
   "outputs": [
    {
     "name": "stdout",
     "output_type": "stream",
     "text": [
      "4.947494293694454e-07\n",
      "0.034594630283094424\n",
      "1.9913631080041734\n",
      "0.006209315852978153\n",
      "4.947494293139343e-07\n",
      "1.5928758599133062\n",
      "0.3343254610374009\n",
      "0.41318395015597215\n",
      "1.9980964458093458\n",
      "1.0610078477036542\n"
     ]
    }
   ],
   "source": [
    "def proj_simplexe(y):\n",
    "    g = lambda k: np.sum(np.maximum(y-k,0)) - 1.0\n",
    "    sol = scipy.optimize.root(g,x0=0,method='anderson') # scipy.optimize.fsolve(g,0)\n",
    "    k = sol.x\n",
    "    return np.maximum(y-k,0)\n",
    "\n",
    "# validation: calcul de produits scalaires\n",
    "n = 10\n",
    "y = np.random.randn(n)\n",
    "p = proj_simplexe(y)\n",
    "for i in range(n):\n",
    "    ei = np.zeros(n)\n",
    "    ei[i] = 1\n",
    "    print(np.dot(y-p, p-ei))\n"
   ]
  },
  {
   "cell_type": "markdown",
   "metadata": {
    "deletable": false
   },
   "source": [
    "## II. Optimisation de portefeuille.\n",
    "\n",
    "Dans cette partie, il s'agit de résoudre un problème d'optimisation sous contraintes de la forme suivante:\n",
    "\n",
    "$$ \\min_{x\\in\\Delta} f(x) \\hbox{ où } f(x) = \\frac{1}{2}\\sca{x}{Qx} + \\frac{1}{2\\eta}(\\sca{r}{x}-r_0)^2, $$\n",
    "\n",
    "où $Q \\in \\mathcal{M}_{n,n}(\\Rsp)$ est une matrice symétrique définie positive, $r\\in\\Rsp$ est un vecteur et $r_0\\in\\Rsp$ sont donnés. Dans la suite, on fixera $\\eta = 10^{-2}$. \n",
    "\n",
    "**Motivation:** Ce problème modélise une situation où un investisseur cherche placer un portefeuille en garantissant un certain niveau de rendement $r_0\\in\\Rsp$ tout en minimisant le risque. Plus précisément, dans ce problème $n$ est le nombre d'actifs (actions, etc.), et la variable $x\\in\\Rsp^n$ décrit la stratégie d'investissement: $x_i$ décrit la fraction du portefeuille que l'on investit dans l'actif $i$. Ainsi, la contrainte $x\\in\\Delta$ modélise:\n",
    "\n",
    "- qu'on investit une fraction $x_i$ positive dans chaque actif (contrainte $x_i\\geq 0$);\n",
    "- et que la somme totale disponible est investie ($\\sum_i x_i = 1$).\n",
    "\n",
    "La matrice $Q$ modélise la covariance entre les actifs:\n",
    "- si $Q_{ij}\\geq 0$, cela signifie que les actifs financiers $i$ et $j$ sont positivement correlés, et il est donc risqué d'investir dans les deux en même temps. \n",
    "- au contraire, si $Q_{i,j}<0$, les actifs sont négativement correlés, et en investissant dans les deux on diminue le risque. \n",
    "Le problème d'optimisation qu'on regarde consiste donc à trouver une stratégie d'investissement ($x\\in \\Delta$) cherchant à viser un rendement donné (terme $\\frac{1}{2\\eta}(\\sca{r}{x}-r_0)^2$) tout en minimisant le risque (terme $\\sca{x}{Qx}$).\n",
    "\n",
    "En pratique, on considèrera les données suivantes:"
   ]
  },
  {
   "cell_type": "code",
   "execution_count": 10,
   "metadata": {
    "scrolled": true
   },
   "outputs": [
    {
     "name": "stdout",
     "output_type": "stream",
     "text": [
      "[*********************100%***********************]  1 of 1 completed\n",
      "[*********************100%***********************]  1 of 1 completed\n",
      "[*********************100%***********************]  1 of 1 completed\n",
      "[*********************100%***********************]  1 of 1 completed\n"
     ]
    }
   ],
   "source": [
    "# Le code suivant permet de construire la matrice $Q$ à partir de données réelles.\n",
    "# Ne pas hésiter à la décommenter et à tester avec d'autres choix d'actifs. Pour cela,\n",
    "# il faut installer le package yfinance en lançant la ligne suivant\n",
    "# !pip install yfinance\n",
    "if True: # mettre True pour changer les dates, les actifs, etc\n",
    "    import yfinance as yf \n",
    "    import numpy as np\n",
    "    stocks = ['NFLX','MSFT','BA','AIR']\n",
    "    closes = np.array([np.array(yf.download(s,'2021-01-01','2022-01-01').Close) for s in stocks]).T\n",
    "    r = (closes[-1,:] - closes[1,:])/closes[1,:] # rendement sur l'année 2019\n",
    "    Q = np.cov(closes - np.mean(closes,0),rowvar=False) # estimation de la covariance entre les valeurs\n",
    "\n",
    "Q = np.array([[1199.6242199,  -225.74269344,  270.42617708, -112.31853678],\n",
    "              [-225.74269344,  224.42514399, -157.75776414,   46.31290714],\n",
    "              [ 270.42617708, -157.75776414,  600.37115079,  -28.1665365 ],\n",
    "              [-112.31853678,   46.31290714,  -28.1665365,    21.77422792]])\n",
    "r = np.array([0.20888442, 0.55953316, 0.00602209, 0.2042723])\n",
    "r0 = 0.7*np.max(r)\n",
    "eta = 1e-4"
   ]
  },
  {
   "cell_type": "markdown",
   "metadata": {
    "deletable": false
   },
   "source": [
    "**Q1)** Montrer que la fonction $f$ est strictement convexe et que\n",
    "$\\nabla f(x) = Qx + \\frac{1}{\\eta} (\\sca{r}{x}-r_0) r.$"
   ]
  },
  {
   "cell_type": "markdown",
   "metadata": {
    "deletable": false
   },
   "source": [
    "## II.1. Méthode de gradient projeté\n",
    "\n",
    "**Q2)** Écrire une fonction `f` et `gradf`, et utiliser la fonction `verifier_gradient` pour valider l'implémentation."
   ]
  },
  {
   "cell_type": "code",
   "execution_count": 11,
   "metadata": {},
   "outputs": [
    {
     "name": "stdout",
     "output_type": "stream",
     "text": [
      "erreur numerique dans le calcul du gradient: 7.1387e-10 (doit etre petit)\n"
     ]
    }
   ],
   "source": [
    "def f(x):\n",
    "    return .5*np.dot(x,Q@x) + .5/eta*(np.dot(x,r) - r0)**2\n",
    "def gradf(x):\n",
    "    return Q@x + 1/eta*(np.dot(x,r)-r0)*r\n",
    "\n",
    "# vérification du calcul du gradient\n",
    "verifier_gradient(f,gradf,np.random.rand(len(r)))"
   ]
  },
  {
   "cell_type": "markdown",
   "metadata": {
    "deletable": false
   },
   "source": [
    "**Q3)** Implémenter l'algorithme du gradient projeté pour résoudre le problème avec les données ci-dessus, i.e.\n",
    "\n",
    "$$ \\begin{cases} x^{(0)} = 0_{\\Rsp^n}\\\\\n",
    "x^{(k+1)} = \\mathrm{proj\\_simplexe}(x^{(k)} - \\tau \\nabla f(x^{(k)})) \n",
    "\\end{cases}$$ \n",
    "\n",
    "Tracer sur deux figures distinctes:\n",
    "- La suite des valeurs $f(x^{(k)})$ pour $1\\leq k<100$.\n",
    "- La suite $\\|{x^{k} - x^{(k-1)}}\\|$ pour $1\\leq k<100$ (on pourra mettre les abscisses en échelle logarithmique). Pourquoi la convergence de cette suite vers zéro est-elle une indication du bon fonctionnement de l'algorithme?\n",
    "\n",
    "Pour choisir le paramètre $\\tau$ de l'algorithme du gradient projeté, on pourra procéder par tâtonnement: par exemple, choisir $\\tau$ de sorte à ce que $k\\mapsto f(x^{(k)})$ soit décroissante et que la suite $\\|{x^{k} - x^{(k-1)}}\\|$ semble tendre vers zéro."
   ]
  },
  {
   "cell_type": "code",
   "execution_count": 15,
   "metadata": {},
   "outputs": [
    {
     "data": {
      "text/plain": [
       "[<matplotlib.lines.Line2D at 0x7fd42fcbf0a0>]"
      ]
     },
     "execution_count": 15,
     "metadata": {},
     "output_type": "execute_result"
    },
    {
     "data": {
      "image/png": "[encoded data removed]",
      "text/plain": [
       "<Figure size 648x432 with 1 Axes>"
      ]
     },
     "metadata": {
      "needs_background": "light"
     },
     "output_type": "display_data"
    },
    {
     "data": {
      "image/png": "[encoded data removed]",
      "text/plain": [
       "<Figure size 648x432 with 1 Axes>"
      ]
     },
     "metadata": {
      "needs_background": "light"
     },
     "output_type": "display_data"
    }
   ],
   "source": [
    "x = np.zeros(len(r))\n",
    "tau = .0005\n",
    "niter = 40\n",
    "F = np.zeros(niter)\n",
    "G = np.zeros(niter)\n",
    "for i in range(niter):\n",
    "    xnew = proj_simplexe(x - tau*gradf(x))\n",
    "    G[i] = np.linalg.norm(x-xnew)\n",
    "    F[i] = f(x)\n",
    "    x = xnew\n",
    "plt.plot(F)\n",
    "plt.figure()\n",
    "plt.semilogy(G)\n"
   ]
  },
  {
   "cell_type": "markdown",
   "metadata": {
    "deletable": false
   },
   "source": [
    "## II.2. Méthode de pénalisation\n",
    "\n",
    "**Q1** Montrer que le simplexe $\\Delta = \\{ x\\in\\Rsp_+^n\\mid \\sum_i x_i = 1\\}$ peut-être mis sous la forme\n",
    "\n",
    "$$ \\Delta = \\{ x\\in\\Rsp^n \\mid \\forall 1\\leq i\\leq \\ell, c_i(x) \\leq 0 \\} $$\n",
    "\n",
    "avec $\\ell = n+2$ et \n",
    "\n",
    "$$ c_i(x) = \\begin{cases} -x_i & \\hbox{ si } 1\\leq i\\leq n \\\\\n",
    "x_1+\\dots+x_n - 1 & \\hbox{ si } i=n+1\\\\\n",
    "-(x_1+\\dots+x_n - 1) & \\hbox{ si } i=n+2\\end{cases} $$\n",
    "\n",
    "Dans la méthode de pénalisation, le problème d'optimisation sous contraintes \n",
    "\n",
    "$$ P =  \\min_{x\\in\\Delta} f(x) \\hbox{ où } f(x) = \\frac{1}{2}\\sca{x}{Qx} + \\frac{1}{2\\eta}(\\sca{r}{x}-r_0)^2, $$\n",
    "\n",
    "est alors approché par le problème d'optimisation sans contraintes suivant:\n",
    "\n",
    "$$ P_\\eps = \\min_{x\\in\\Rsp^n} f_\\eps(x) \\hbox{ où } f_\\eps(x) = f(x) + \\frac{1}{\\eps}\\sum_{1\\leq i\\leq \\ell} \\max(c_i(x),0)^2 $$\n",
    "\n",
    "**Q2** Montrer que \n",
    "\n",
    "$$ f_\\eps(x) = f(x) + \\frac{1}{\\eps}\\left(\\sum_{1\\leq i\\leq n} \\max(-x_i,0)^2)\\right) + \\frac{1}{\\eps}(x_1+\\dots+x_n - 1)^2 $$\n",
    "$$(\\nabla f_\\eps(x))_i = (\\nabla f(x))_i - \\frac{2}{\\eps} \\max(-x_i,0) + \\frac{2}{\\eps} (x_1+\\dots+x_n - 1)$$\n",
    "\n",
    "Coder deux fonctions `feps(x)` et `gradfeps(x)`, et vérifier leur bon fonctionnement en utilisant `verifier_gradient`."
   ]
  },
  {
   "cell_type": "code",
   "execution_count": 7,
   "metadata": {},
   "outputs": [
    {
     "name": "stdout",
     "output_type": "stream",
     "text": [
      "erreur numerique dans le calcul du gradient: 3.60468e-07 (doit etre petit)\n"
     ]
    }
   ],
   "source": [
    "eps = 1e-4\n",
    "\n",
    "def feps(x):\n",
    "    return f(x) + 1/eps*(np.sum(np.maximum(-x,0)**2))+ 1/eps*(np.sum(x)-1)**2\n",
    "\n",
    "def gradfeps(x):\n",
    "    return gradf(x) - 2/eps*np.maximum(-x,0) + 2/eps*(np.sum(x)-1)\n",
    "\n",
    "verifier_gradient(feps,gradfeps,10*(np.random.rand(len(r))-.5))"
   ]
  },
  {
   "cell_type": "markdown",
   "metadata": {
    "deletable": false
   },
   "source": [
    "**Q3** En utilisant la fonction `gradient_armijo` ci-dessous, vérifier le fonctionnement de cette approche pour des valeurs de `eps` modérées ($\\eps = 10^{-2}$ où $10^{-3}$). Commenter les résultats (respect des contraintes, vitesse de convergence)."
   ]
  },
  {
   "cell_type": "code",
   "execution_count": 8,
   "metadata": {},
   "outputs": [
    {
     "name": "stdout",
     "output_type": "stream",
     "text": [
      "iteration 100: f=27.378266, |g|=6.742202, step=0.000061\n",
      "iteration 200: f=27.290579, |g|=4.629492, step=0.000031\n",
      "iteration 300: f=27.249259, |g|=2.972122, step=0.000031\n",
      "iteration 400: f=27.235239, |g|=1.629654, step=0.000031\n",
      "iteration 500: f=27.230526, |g|=2.995748, step=0.000015\n",
      "iteration 600: f=27.228515, |g|=1.445854, step=0.000015\n",
      "iteration 700: f=27.227924, |g|=0.549317, step=0.000015\n",
      "iteration 800: f=27.227660, |g|=0.278880, step=0.000015\n",
      "iteration 900: f=27.227579, |g|=0.220608, step=0.000015\n",
      "iteration 1000: f=27.227547, |g|=0.213598, step=0.000015\n",
      "iteration 1100: f=27.227536, |g|=0.078490, step=0.000015\n",
      "iteration 1200: f=27.227532, |g|=0.025412, step=0.000122\n",
      "iteration 1300: f=27.227531, |g|=0.014321, step=0.000122\n",
      "iteration 1400: f=27.227530, |g|=0.012038, step=0.000031\n",
      "iteration 1500: f=27.227530, |g|=0.006354, step=0.000031\n",
      "iteration 1600: f=27.227530, |g|=0.007406, step=0.000015\n",
      "iteration 1700: f=27.227530, |g|=0.001910, step=0.000122\n",
      "iteration 1800: f=27.227530, |g|=0.002640, step=0.000015\n",
      "iteration 1900: f=27.227530, |g|=0.001165, step=0.000015\n",
      "iteration 2000: f=27.227530, |g|=0.000593, step=0.000015\n",
      "iteration 2100: f=27.227530, |g|=0.000263, step=0.000061\n",
      "iteration 2200: f=27.227530, |g|=0.000184, step=0.000031\n",
      "iteration 2300: f=27.227530, |g|=0.000112, step=0.000031\n",
      "iteration 2400: f=27.227530, |g|=0.000063, step=0.000031\n",
      "iteration 2500: f=27.227530, |g|=0.000078, step=0.000015\n",
      "iteration 2600: f=27.227530, |g|=0.000038, step=0.000000\n",
      "iteration 2700: f=27.227530, |g|=0.000038, step=0.000000\n",
      "iteration 2800: f=27.227530, |g|=0.000038, step=0.000000\n",
      "iteration 2900: f=27.227530, |g|=0.000038, step=0.000000\n",
      "iteration 3000: f=27.227530, |g|=0.000038, step=0.000000\n",
      "iteration 3100: f=27.227530, |g|=0.000038, step=0.000000\n",
      "iteration 3200: f=27.227530, |g|=0.000038, step=0.000000\n",
      "iteration 3300: f=27.227530, |g|=0.000038, step=0.000000\n",
      "iteration 3400: f=27.227530, |g|=0.000038, step=0.000000\n",
      "iteration 3500: f=27.227530, |g|=0.000038, step=0.000000\n",
      "iteration 3600: f=27.227530, |g|=0.000038, step=0.000000\n",
      "iteration 3700: f=27.227530, |g|=0.000038, step=0.000000\n",
      "iteration 3800: f=27.227530, |g|=0.000038, step=0.000000\n",
      "iteration 3900: f=27.227530, |g|=0.000038, step=0.000000\n",
      "iteration 4000: f=27.227530, |g|=0.000038, step=0.000000\n",
      "iteration 4100: f=27.227530, |g|=0.000038, step=0.000000\n",
      "iteration 4200: f=27.227530, |g|=0.000038, step=0.000000\n",
      "iteration 4300: f=27.227530, |g|=0.000038, step=0.000000\n",
      "iteration 4400: f=27.227530, |g|=0.000038, step=0.000000\n",
      "iteration 4500: f=27.227530, |g|=0.000038, step=0.000000\n",
      "iteration 4600: f=27.227530, |g|=0.000038, step=0.000000\n",
      "iteration 4700: f=27.227530, |g|=0.000038, step=0.000000\n",
      "iteration 4800: f=27.227530, |g|=0.000038, step=0.000000\n",
      "iteration 4900: f=27.227530, |g|=0.000038, step=0.000000\n",
      "iteration 5000: f=27.227530, |g|=0.000038, step=0.000000\n",
      "iteration 5100: f=27.227530, |g|=0.000038, step=0.000000\n",
      "iteration 5200: f=27.227530, |g|=0.000038, step=0.000000\n",
      "iteration 5300: f=27.227530, |g|=0.000038, step=0.000000\n",
      "iteration 5400: f=27.227530, |g|=0.000038, step=0.000000\n",
      "iteration 5500: f=27.227530, |g|=0.000038, step=0.000000\n",
      "iteration 5600: f=27.227530, |g|=0.000038, step=0.000000\n",
      "iteration 5700: f=27.227530, |g|=0.000038, step=0.000000\n",
      "iteration 5800: f=27.227530, |g|=0.000038, step=0.000000\n",
      "iteration 5900: f=27.227530, |g|=0.000038, step=0.000000\n",
      "iteration 6000: f=27.227530, |g|=0.000038, step=0.000000\n",
      "iteration 6100: f=27.227530, |g|=0.000038, step=0.000000\n",
      "iteration 6200: f=27.227530, |g|=0.000038, step=0.000000\n",
      "iteration 6300: f=27.227530, |g|=0.000038, step=0.000000\n",
      "iteration 6400: f=27.227530, |g|=0.000038, step=0.000000\n",
      "iteration 6500: f=27.227530, |g|=0.000038, step=0.000000\n",
      "iteration 6600: f=27.227530, |g|=0.000038, step=0.000000\n",
      "iteration 6700: f=27.227530, |g|=0.000038, step=0.000000\n",
      "iteration 6800: f=27.227530, |g|=0.000038, step=0.000000\n",
      "iteration 6900: f=27.227530, |g|=0.000038, step=0.000000\n",
      "iteration 7000: f=27.227530, |g|=0.000038, step=0.000000\n",
      "iteration 7100: f=27.227530, |g|=0.000038, step=0.000000\n",
      "iteration 7200: f=27.227530, |g|=0.000038, step=0.000000\n",
      "iteration 7300: f=27.227530, |g|=0.000038, step=0.000000\n",
      "iteration 7400: f=27.227530, |g|=0.000038, step=0.000000\n",
      "iteration 7500: f=27.227530, |g|=0.000038, step=0.000000\n",
      "iteration 7600: f=27.227530, |g|=0.000038, step=0.000000\n",
      "iteration 7700: f=27.227530, |g|=0.000038, step=0.000000\n",
      "iteration 7800: f=27.227530, |g|=0.000038, step=0.000000\n",
      "iteration 7900: f=27.227530, |g|=0.000038, step=0.000000\n",
      "iteration 8000: f=27.227530, |g|=0.000038, step=0.000000\n",
      "iteration 8100: f=27.227530, |g|=0.000038, step=0.000000\n",
      "iteration 8200: f=27.227530, |g|=0.000038, step=0.000000\n",
      "iteration 8300: f=27.227530, |g|=0.000038, step=0.000000\n",
      "iteration 8400: f=27.227530, |g|=0.000038, step=0.000000\n",
      "iteration 8500: f=27.227530, |g|=0.000038, step=0.000000\n",
      "iteration 8600: f=27.227530, |g|=0.000038, step=0.000000\n",
      "iteration 8700: f=27.227530, |g|=0.000038, step=0.000000\n",
      "iteration 8800: f=27.227530, |g|=0.000038, step=0.000000\n",
      "iteration 8900: f=27.227530, |g|=0.000038, step=0.000000\n",
      "iteration 9000: f=27.227530, |g|=0.000038, step=0.000000\n",
      "iteration 9100: f=27.227530, |g|=0.000038, step=0.000000\n",
      "iteration 9200: f=27.227530, |g|=0.000038, step=0.000000\n",
      "iteration 9300: f=27.227530, |g|=0.000038, step=0.000000\n",
      "iteration 9400: f=27.227530, |g|=0.000038, step=0.000000\n",
      "iteration 9500: f=27.227530, |g|=0.000038, step=0.000000\n",
      "iteration 9600: f=27.227530, |g|=0.000038, step=0.000000\n",
      "iteration 9700: f=27.227530, |g|=0.000038, step=0.000000\n",
      "iteration 9800: f=27.227530, |g|=0.000038, step=0.000000\n",
      "iteration 9900: f=27.227530, |g|=0.000038, step=0.000000\n",
      "iteration 10000: f=27.227530, |g|=0.000038, step=0.000000\n",
      "iteration 10100: f=27.227530, |g|=0.000038, step=0.000000\n",
      "iteration 10200: f=27.227530, |g|=0.000038, step=0.000000\n",
      "iteration 10300: f=27.227530, |g|=0.000038, step=0.000000\n",
      "iteration 10400: f=27.227530, |g|=0.000038, step=0.000000\n",
      "iteration 10500: f=27.227530, |g|=0.000038, step=0.000000\n",
      "iteration 10600: f=27.227530, |g|=0.000038, step=0.000000\n",
      "iteration 10700: f=27.227530, |g|=0.000038, step=0.000000\n",
      "iteration 10800: f=27.227530, |g|=0.000038, step=0.000000\n",
      "iteration 10900: f=27.227530, |g|=0.000038, step=0.000000\n",
      "iteration 11000: f=27.227530, |g|=0.000038, step=0.000000\n",
      "iteration 11100: f=27.227530, |g|=0.000038, step=0.000000\n",
      "iteration 11200: f=27.227530, |g|=0.000038, step=0.000000\n",
      "iteration 11300: f=27.227530, |g|=0.000038, step=0.000000\n",
      "iteration 11400: f=27.227530, |g|=0.000038, step=0.000000\n",
      "iteration 11500: f=27.227530, |g|=0.000038, step=0.000000\n",
      "iteration 11600: f=27.227530, |g|=0.000038, step=0.000000\n",
      "iteration 11700: f=27.227530, |g|=0.000038, step=0.000000\n",
      "iteration 11800: f=27.227530, |g|=0.000038, step=0.000000\n",
      "iteration 11900: f=27.227530, |g|=0.000038, step=0.000000\n",
      "iteration 12000: f=27.227530, |g|=0.000038, step=0.000000\n",
      "iteration 12100: f=27.227530, |g|=0.000038, step=0.000000\n",
      "iteration 12200: f=27.227530, |g|=0.000038, step=0.000000\n",
      "iteration 12300: f=27.227530, |g|=0.000038, step=0.000000\n",
      "iteration 12400: f=27.227530, |g|=0.000038, step=0.000000\n",
      "iteration 12500: f=27.227530, |g|=0.000038, step=0.000000\n",
      "iteration 12600: f=27.227530, |g|=0.000038, step=0.000000\n",
      "iteration 12700: f=27.227530, |g|=0.000038, step=0.000000\n",
      "iteration 12800: f=27.227530, |g|=0.000038, step=0.000000\n",
      "iteration 12900: f=27.227530, |g|=0.000038, step=0.000000\n",
      "iteration 13000: f=27.227530, |g|=0.000038, step=0.000000\n",
      "iteration 13100: f=27.227530, |g|=0.000038, step=0.000000\n",
      "iteration 13200: f=27.227530, |g|=0.000038, step=0.000000\n",
      "iteration 13300: f=27.227530, |g|=0.000038, step=0.000000\n",
      "iteration 13400: f=27.227530, |g|=0.000038, step=0.000000\n",
      "iteration 13500: f=27.227530, |g|=0.000038, step=0.000000\n",
      "iteration 13600: f=27.227530, |g|=0.000038, step=0.000000\n",
      "iteration 13700: f=27.227530, |g|=0.000038, step=0.000000\n",
      "iteration 13800: f=27.227530, |g|=0.000038, step=0.000000\n",
      "iteration 13900: f=27.227530, |g|=0.000038, step=0.000000\n",
      "iteration 14000: f=27.227530, |g|=0.000038, step=0.000000\n",
      "iteration 14100: f=27.227530, |g|=0.000038, step=0.000000\n",
      "iteration 14200: f=27.227530, |g|=0.000038, step=0.000000\n",
      "iteration 14300: f=27.227530, |g|=0.000038, step=0.000000\n",
      "iteration 14400: f=27.227530, |g|=0.000038, step=0.000000\n",
      "iteration 14500: f=27.227530, |g|=0.000038, step=0.000000\n"
     ]
    },
    {
     "name": "stdout",
     "output_type": "stream",
     "text": [
      "iteration 14600: f=27.227530, |g|=0.000038, step=0.000000\n",
      "iteration 14700: f=27.227530, |g|=0.000038, step=0.000000\n",
      "iteration 14800: f=27.227530, |g|=0.000038, step=0.000000\n",
      "iteration 14900: f=27.227530, |g|=0.000038, step=0.000000\n",
      "iteration 15000: f=27.227530, |g|=0.000038, step=0.000000\n",
      "iteration 15100: f=27.227530, |g|=0.000038, step=0.000000\n",
      "iteration 15200: f=27.227530, |g|=0.000038, step=0.000000\n",
      "iteration 15300: f=27.227530, |g|=0.000038, step=0.000000\n",
      "iteration 15400: f=27.227530, |g|=0.000038, step=0.000000\n",
      "iteration 15500: f=27.227530, |g|=0.000038, step=0.000000\n",
      "iteration 15600: f=27.227530, |g|=0.000038, step=0.000000\n",
      "iteration 15700: f=27.227530, |g|=0.000038, step=0.000000\n",
      "iteration 15800: f=27.227530, |g|=0.000038, step=0.000000\n",
      "iteration 15900: f=27.227530, |g|=0.000038, step=0.000000\n",
      "iteration 16000: f=27.227530, |g|=0.000038, step=0.000000\n",
      "iteration 16100: f=27.227530, |g|=0.000038, step=0.000000\n",
      "iteration 16200: f=27.227530, |g|=0.000038, step=0.000000\n",
      "iteration 16300: f=27.227530, |g|=0.000038, step=0.000000\n",
      "iteration 16400: f=27.227530, |g|=0.000038, step=0.000000\n",
      "iteration 16500: f=27.227530, |g|=0.000038, step=0.000000\n",
      "iteration 16600: f=27.227530, |g|=0.000038, step=0.000000\n",
      "iteration 16700: f=27.227530, |g|=0.000038, step=0.000000\n",
      "iteration 16800: f=27.227530, |g|=0.000038, step=0.000000\n",
      "iteration 16900: f=27.227530, |g|=0.000038, step=0.000000\n",
      "iteration 17000: f=27.227530, |g|=0.000038, step=0.000000\n",
      "iteration 17100: f=27.227530, |g|=0.000038, step=0.000000\n",
      "iteration 17200: f=27.227530, |g|=0.000038, step=0.000000\n",
      "iteration 17300: f=27.227530, |g|=0.000038, step=0.000000\n",
      "iteration 17400: f=27.227530, |g|=0.000038, step=0.000000\n",
      "iteration 17500: f=27.227530, |g|=0.000038, step=0.000000\n",
      "iteration 17600: f=27.227530, |g|=0.000038, step=0.000000\n",
      "iteration 17700: f=27.227530, |g|=0.000038, step=0.000000\n",
      "iteration 17800: f=27.227530, |g|=0.000038, step=0.000000\n",
      "iteration 17900: f=27.227530, |g|=0.000038, step=0.000000\n",
      "iteration 18000: f=27.227530, |g|=0.000038, step=0.000000\n",
      "iteration 18100: f=27.227530, |g|=0.000038, step=0.000000\n",
      "iteration 18200: f=27.227530, |g|=0.000038, step=0.000000\n",
      "iteration 18300: f=27.227530, |g|=0.000038, step=0.000000\n",
      "iteration 18400: f=27.227530, |g|=0.000038, step=0.000000\n",
      "iteration 18500: f=27.227530, |g|=0.000038, step=0.000000\n",
      "iteration 18600: f=27.227530, |g|=0.000038, step=0.000000\n",
      "iteration 18700: f=27.227530, |g|=0.000038, step=0.000000\n",
      "iteration 18800: f=27.227530, |g|=0.000038, step=0.000000\n",
      "iteration 18900: f=27.227530, |g|=0.000038, step=0.000000\n",
      "iteration 19000: f=27.227530, |g|=0.000038, step=0.000000\n",
      "iteration 19100: f=27.227530, |g|=0.000038, step=0.000000\n",
      "iteration 19200: f=27.227530, |g|=0.000038, step=0.000000\n",
      "iteration 19300: f=27.227530, |g|=0.000038, step=0.000000\n",
      "iteration 19400: f=27.227530, |g|=0.000038, step=0.000000\n",
      "iteration 19500: f=27.227530, |g|=0.000038, step=0.000000\n",
      "iteration 19600: f=27.227530, |g|=0.000038, step=0.000000\n",
      "iteration 19700: f=27.227530, |g|=0.000038, step=0.000000\n",
      "iteration 19800: f=27.227530, |g|=0.000038, step=0.000000\n",
      "iteration 19900: f=27.227530, |g|=0.000038, step=0.000000\n",
      "iteration 20000: f=27.227530, |g|=0.000038, step=0.000000\n",
      "erreur: nombre maximum d'itérations atteint\n"
     ]
    },
    {
     "data": {
      "text/plain": [
       "[<matplotlib.lines.Line2D at 0x7f848bb03520>]"
      ]
     },
     "execution_count": 8,
     "metadata": {},
     "output_type": "execute_result"
    },
    {
     "data": {
      "image/png": "[encoded data removed]",
      "text/plain": [
       "<Figure size 648x432 with 1 Axes>"
      ]
     },
     "metadata": {
      "needs_background": "light"
     },
     "output_type": "display_data"
    }
   ],
   "source": [
    "def gradient_armijo(f,gradf,x0,err=1e-5,maxiter=20000):\n",
    "    x = x0.copy()\n",
    "    fiter = []\n",
    "    giter = []\n",
    "    k = 0 # nombre d'itérations\n",
    "    while(True): \n",
    "        k = k+1\n",
    "        if k > maxiter: # maximum de 10^6 itérations\n",
    "            print('erreur: nombre maximum d\\'itérations atteint')\n",
    "            break\n",
    "        d = -gradf(x)\n",
    "        fiter.append(f(x))\n",
    "        giter.append(np.linalg.norm(d))\n",
    "        if np.linalg.norm(d) <= err:\n",
    "            break\n",
    "        t = 1\n",
    "        m = -np.dot(d,d)\n",
    "        while f(x+t*d) > f(x) + 0.3*t*m:\n",
    "            t = 0.5*t\n",
    "        if k%100==0: # on affiche des informations toute les 100 itérations\n",
    "            print('iteration %d: f=%f, |g|=%f, step=%f' % (k, f(x), np.linalg.norm(d),t))\n",
    "        x = x + t*d\n",
    "    return x,np.array(fiter),np.array(giter)\n",
    "\n",
    "x0 = np.ones(len(r))/len(r)\n",
    "x,fiter,giter = gradient_armijo(feps,gradfeps,x0,err=1e-5)\n",
    "plt.semilogy(giter)\n"
   ]
  },
  {
   "cell_type": "code",
   "execution_count": 31,
   "metadata": {},
   "outputs": [
    {
     "data": {
      "text/plain": [
       "array([0.12787167, 0.4879353 , 0.04085487, 0.34478116])"
      ]
     },
     "execution_count": 31,
     "metadata": {},
     "output_type": "execute_result"
    }
   ],
   "source": [
    "x"
   ]
  },
  {
   "cell_type": "code",
   "execution_count": 32,
   "metadata": {},
   "outputs": [
    {
     "data": {
      "text/plain": [
       "1.0014429968281164"
      ]
     },
     "execution_count": 32,
     "metadata": {},
     "output_type": "execute_result"
    }
   ],
   "source": [
    "np.sum(x)"
   ]
  },
  {
   "cell_type": "code",
   "execution_count": null,
   "metadata": {},
   "outputs": [],
   "source": []
  }
 ],
 "metadata": {
  "celltoolbar": "None",
  "kernelspec": {
   "display_name": "Python 3",
   "language": "python",
   "name": "python3"
  },
  "language_info": {
   "codemirror_mode": {
    "name": "ipython",
    "version": 3
   },
   "file_extension": ".py",
   "mimetype": "text/x-python",
   "name": "python",
   "nbconvert_exporter": "python",
   "pygments_lexer": "ipython3",
   "version": "3.8.5"
  }
 },
 "nbformat": 4,
 "nbformat_minor": 2
}
